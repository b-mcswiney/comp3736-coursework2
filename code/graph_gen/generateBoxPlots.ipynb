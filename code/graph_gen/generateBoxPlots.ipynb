{
 "cells": [
  {
   "cell_type": "code",
   "execution_count": null,
   "id": "initial_id",
   "metadata": {
    "collapsed": true
   },
   "outputs": [],
   "source": [
    "import plotly.graph_objs as go\n",
    "import pandas as pd\n",
    "from datetime import datetime"
   ]
  },
  {
   "cell_type": "code",
   "execution_count": null,
   "outputs": [],
   "source": [
    "data = pd.read_csv(\"../logfiles/all-experiments.csv\")\n",
    "data"
   ],
   "metadata": {
    "collapsed": false
   },
   "id": "73b832fb682d6069"
  },
  {
   "cell_type": "code",
   "execution_count": null,
   "outputs": [],
   "source": [
    "question_times = []\n",
    "question_categories = [\n",
    "    \"line\",\n",
    "    \"line\",\n",
    "    \"area\",\n",
    "    \"area\",\n",
    "    \"line\",\n",
    "    \"line\",\n",
    "    \"area\",\n",
    "    \"area\",\n",
    "    \"line\",\n",
    "    \"line\",\n",
    "    \"area\",\n",
    "    \"area\",\n",
    "    \"line\",\n",
    "    \"area\",\n",
    "    \"line\",\n",
    "    \"line\",\n",
    "    \"area\",\n",
    "    \"area\",\n",
    "    \"mix\",\n",
    "    \"mix\",\n",
    "]\n",
    "\n",
    "for i in range(20):\n",
    "    question_times.append([])\n",
    "\n",
    "for id in data.Session.unique():\n",
    "    values = data.loc[data[\"Session\"] == id]\n",
    "    \n",
    "    current_datetime = datetime.strptime(values.iloc[0].iloc[1], ' %Y-%m-%d %H:%M:%S.%f')\n",
    "    for i in range(1, 21):\n",
    "        question_times[i - 1].append(datetime.strptime(values.iloc[i].iloc[1], ' %Y-%m-%d %H:%M:%S.%f') - current_datetime)\n",
    "        current_datetime = datetime.strptime(values.iloc[i].iloc[1], ' %Y-%m-%d %H:%M:%S.%f')\n",
    "    \n",
    "question_times"
   ],
   "metadata": {
    "collapsed": false
   },
   "id": "d468a8f17e8b68f3"
  },
  {
   "cell_type": "code",
   "execution_count": null,
   "outputs": [],
   "source": [
    "red = \"#FF0000\"\n",
    "blue = \"#0000FF\"\n",
    "yellow = \"#dbc300\"\n",
    "\n",
    "color_map = {\n",
    "    \"line\": red,\n",
    "    \"area\": blue,\n",
    "    \"mix\": yellow\n",
    "}\n",
    "\n",
    "fig = go.Figure()\n",
    "fig.update_layout(width=1200,\n",
    "                  height=800,\n",
    "                  title=\"<b>Time taken to complete each question</b>\",\n",
    "                  font_size=20,\n",
    "                  legend=dict(\n",
    "                      title=\"<b>Question Graph Category</b>\",\n",
    "                      yanchor=\"top\",\n",
    "                      xanchor=\"right\"\n",
    "                  ),\n",
    "                  template=\"plotly_white\")\n",
    "fig.update_yaxes(title=\"<b>Time to answer</b> (s)\", dtick=20)\n",
    "fig.update_xaxes(title=\"<b>Question Number</b>\")\n",
    "\n",
    "for index, question in enumerate(question_times):\n",
    "    fig.add_trace(go.Box(\n",
    "        y=[q.seconds for q in question],\n",
    "        marker_color=color_map[question_categories[index]],\n",
    "        name=f\"{index + 1}\",\n",
    "        showlegend=False))\n",
    "\n",
    "# Dummy entries for legend\n",
    "fig.add_trace(go.Scatter(x=[None], y=[None], mode=\"markers\", name=\"Line\", marker=dict(color=red)))\n",
    "fig.add_trace(go.Scatter(x=[None], y=[None], mode=\"markers\", name=\"Area\", marker=dict(color=blue)))\n",
    "fig.add_trace(go.Scatter(x=[None], y=[None], mode=\"markers\", name=\"Mix\", marker=dict(color=yellow)))\n",
    "\n",
    "fig.show()"
   ],
   "metadata": {
    "collapsed": false
   },
   "id": "aed8b1e50b2442dc"
  },
  {
   "cell_type": "code",
   "execution_count": null,
   "outputs": [],
   "source": [
    "fig.write_image(\"export_box.png\")"
   ],
   "metadata": {
    "collapsed": false
   },
   "id": "8829b99b57781b80"
  }
 ],
 "metadata": {
  "kernelspec": {
   "display_name": "Python 3",
   "language": "python",
   "name": "python3"
  },
  "language_info": {
   "codemirror_mode": {
    "name": "ipython",
    "version": 2
   },
   "file_extension": ".py",
   "mimetype": "text/x-python",
   "name": "python",
   "nbconvert_exporter": "python",
   "pygments_lexer": "ipython2",
   "version": "2.7.6"
  }
 },
 "nbformat": 4,
 "nbformat_minor": 5
}
